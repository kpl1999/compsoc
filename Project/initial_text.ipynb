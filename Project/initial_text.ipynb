{
 "cells": [
  {
   "cell_type": "code",
   "execution_count": 1,
   "metadata": {},
   "outputs": [],
   "source": [
    "import json\n",
    "import pandas as pd\n",
    "import numpy as np\n",
    "import netwulf as nw\n",
    "import matplotlib.pyplot as plt\n",
    "import networkx as nx\n",
    "import random as random \n",
    "pd.set_option('display.max_colwidth', None)\n"
   ]
  },
  {
   "cell_type": "code",
   "execution_count": 39,
   "metadata": {},
   "outputs": [],
   "source": [
    "# read script-bag-of-words file\n",
    "with open('data/script-bag-of-words.json') as f:\n",
    "    data = json.load(f)"
   ]
  },
  {
   "cell_type": "code",
   "execution_count": 67,
   "metadata": {},
   "outputs": [],
   "source": [
    "# create dataframe\n",
    "df = pd.DataFrame(data)\n",
    "\n",
    "df = df.explode('text')\n",
    "\n",
    "# create a new column with names\n",
    "names = []\n",
    "for i in range(len(df)):\n",
    "    names.append(df.iloc[i, 4]['name'])\n",
    "df['name'] = names\n",
    "\n",
    "# create a new column with text\n",
    "text = []\n",
    "for i in range(len(df)):\n",
    "    text.append(df.iloc[i, 4]['text'])\n",
    "df['text'] = text"
   ]
  },
  {
   "cell_type": "code",
   "execution_count": 68,
   "metadata": {},
   "outputs": [
    {
     "data": {
      "text/plain": [
       "0                                                                                                                                   Easy, boy.\n",
       "0     One They're What a and another before d'you each expect? from goat it, know lot lot other pieces. ripping savages. steals they're to you\n",
       "0                                      I've I've Wildlings a a do ever in life. like like my never never not seen seen thing thing this, this.\n",
       "0                                                                                                                       How close did get? you\n",
       "0                                                                                                                      Close any as man would.\n",
       "                                                                        ...                                                                   \n",
       "72                                                                          I agree all brothels. can over precedence ships take that think we\n",
       "72                                                                                               I a presumptuous statement. that's think very\n",
       "72                                                                                    I a a a and brothel. brought honeycomb into jackass once\n",
       "72                                                                                                                     North! Queen The in the\n",
       "72                     North! North! North! North! North! Queen Queen Queen Queen Queen The The The The The in in in in in the the the the the\n",
       "Name: text, Length: 23569, dtype: object"
      ]
     },
     "execution_count": 68,
     "metadata": {},
     "output_type": "execute_result"
    }
   ],
   "source": [
    "df['text']\n"
   ]
  }
 ],
 "metadata": {
  "kernelspec": {
   "display_name": "Python 3",
   "language": "python",
   "name": "python3"
  },
  "language_info": {
   "codemirror_mode": {
    "name": "ipython",
    "version": 3
   },
   "file_extension": ".py",
   "mimetype": "text/x-python",
   "name": "python",
   "nbconvert_exporter": "python",
   "pygments_lexer": "ipython3",
   "version": "3.9.10"
  },
  "orig_nbformat": 4
 },
 "nbformat": 4,
 "nbformat_minor": 2
}
