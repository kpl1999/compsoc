{
 "cells": [
  {
   "cell_type": "code",
   "execution_count": 50,
   "metadata": {},
   "outputs": [],
   "source": [
    "import json\n",
    "import pandas as pd\n",
    "import numpy as np\n",
    "import netwulf as nw\n",
    "import matplotlib.pyplot as plt\n",
    "import networkx as nx\n",
    "import random as random \n",
    "import re\n",
    "pd.set_option('display.max_colwidth', None)"
   ]
  },
  {
   "cell_type": "code",
   "execution_count": 10,
   "metadata": {},
   "outputs": [],
   "source": [
    "# load tokenized script. Less data but contains all names still\n",
    "script_tokenized = pd.read_csv('./data/Game_of_Thrones_Script_tokenized.csv')\n",
    "\n",
    "# load dataset with all characters and extract json charactername to a dataframe\n",
    "with open('data/characters.json') as f:\n",
    "    data = json.load(f)"
   ]
  },
  {
   "cell_type": "code",
   "execution_count": 67,
   "metadata": {},
   "outputs": [
    {
     "name": "stdout",
     "output_type": "stream",
     "text": [
      "Characters 389\n",
      "Characters with link 368\n"
     ]
    }
   ],
   "source": [
    "df = pd.DataFrame(data['characters'])\n",
    "print(\"Characters\", df.shape[0])\n",
    "\n",
    "df = df[df['characterLink'].notnull()]\n",
    "print(\"Characters with link\", df.shape[0])\n",
    "characters = df.characterName"
   ]
  },
  {
   "cell_type": "code",
   "execution_count": 74,
   "metadata": {},
   "outputs": [
    {
     "name": "stdout",
     "output_type": "stream",
     "text": [
      "Addam Marbrand 5\n",
      "Akho 4\n",
      "Dothraki Bloodrider #1 2\n"
     ]
    }
   ],
   "source": [
    "min_len = 10000\n",
    "\n",
    "for c in characters:\n",
    "    c_min = len(min(c.split(' ')))\n",
    "    if c_min < min_len:\n",
    "        min_len = c_min\n",
    "        print(c, c_min)\n",
    "\n",
    "# We conclude that the shortest real name is 4 characters long.\n",
    "min_len = 4"
   ]
  },
  {
   "cell_type": "code",
   "execution_count": 9,
   "metadata": {},
   "outputs": [
    {
     "data": {
      "text/plain": [
       "Season                                                                                                                               1\n",
       "Episode                                                                                                                              1\n",
       "Episode Title                                                                                                         Winter is Coming\n",
       "Name                                                                                                                           viserys\n",
       "tokens           ['daenerys', 'bride', 'look', 'gift', 'illyrio', 'touch', 'come', 'feel', 'fabric', 'mmmm', 'nt', 'gracious', 'host']\n",
       "Name: 175, dtype: object"
      ]
     },
     "execution_count": 9,
     "metadata": {},
     "output_type": "execute_result"
    }
   ],
   "source": [
    "script_tokenized.iloc[175]"
   ]
  },
  {
   "cell_type": "code",
   "execution_count": 91,
   "metadata": {},
   "outputs": [
    {
     "data": {
      "text/plain": [
       "[['One', 'They', 'What'],\n",
       " [],\n",
       " ['How'],\n",
       " ['Close'],\n",
       " ['We'],\n",
       " ['Do'],\n",
       " ['Our', 'They', 'We'],\n",
       " ['Get', 'You'],\n",
       " ['They', 'Whatever'],\n",
       " ['Get', 'If', 'It', 'Of', 'You'],\n",
       " ['Your'],\n",
       " ['They'],\n",
       " ['See'],\n",
       " ['What'],\n",
       " ['It'],\n",
       " ['Father', 'Go'],\n",
       " ['And'],\n",
       " ['Fine', 'Well'],\n",
       " ['Thank'],\n",
       " ['Quite'],\n",
       " ['And', 'Bran', 'Go', 'Keep'],\n",
       " ['Bran', 'Don'],\n",
       " ['Relax'],\n",
       " ['Bran', 'Quick'],\n",
       " ['Lord Stark', 'My', 'Night', 'They', 'Watch'],\n",
       " ['Get'],\n",
       " ['Do'],\n",
       " ['Cat', 'He'],\n",
       " ['The'],\n",
       " ['Tell Bran']]"
      ]
     },
     "execution_count": 91,
     "metadata": {},
     "output_type": "execute_result"
    }
   ],
   "source": [
    "# Observation, all characternanmes start with a capital letter in the\n",
    "# original script, so we can filter our dataset down tremendously\n",
    "# we load original script and filter word down to only those that start with a capital letter\n",
    "\n",
    "script = pd.read_csv('./data/Game_of_Thrones_Script.csv')\n",
    "\n",
    "# regex for returning words that start with a capital letter, followed by a lowercase letter\n",
    "regex = r'\\b[A-Z][a-z]+(?:\\s+[A-Z][a-z]+)?\\b' # courtesy of GPT4\n",
    "\n",
    "# Captures pairs of capitalized start words, removes 3 letter words [courtesy of GPT4]\n",
    "# regex = r'\\b[A-Z][a-z]{3,}(?:\\s+[A-Z][a-z]{3,})?\\b'\n",
    "\n",
    "[np.unique(re.findall(regex, sentence)).tolist() for sentence in script.Sentence.iloc[0:30]]\n",
    "# script.Sentence.iloc[2]\n",
    "\n",
    "# NOTE: maybe names called multiple times in a sentence are actually multiple times important, \n",
    "# NOTE: So no stemming with np.unique\n",
    "\n",
    "# NOTE: Link the short name \"Bran\" with the long name \"Brandon Stark\" and then see \n",
    "# how many unique names there are. Then we dont get doubles. (If we decide to use unique mentions) Not very likely tbh"
   ]
  }
 ],
 "metadata": {
  "kernelspec": {
   "display_name": ".venv",
   "language": "python",
   "name": "python3"
  },
  "language_info": {
   "codemirror_mode": {
    "name": "ipython",
    "version": 3
   },
   "file_extension": ".py",
   "mimetype": "text/x-python",
   "name": "python",
   "nbconvert_exporter": "python",
   "pygments_lexer": "ipython3",
   "version": "3.8.9"
  },
  "orig_nbformat": 4
 },
 "nbformat": 4,
 "nbformat_minor": 2
}
