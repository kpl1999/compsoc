{
 "cells": [
  {
   "cell_type": "code",
   "execution_count": 3,
   "metadata": {},
   "outputs": [],
   "source": [
    "import pandas as pd\n",
    "import json\n",
    "import numpy as np\n",
    "import re\n",
    "import pickle"
   ]
  },
  {
   "cell_type": "code",
   "execution_count": 9,
   "metadata": {},
   "outputs": [],
   "source": [
    "# we load all datasets containing the characters that are used for analysis\n",
    "df_raw_script = pd.read_csv('data/Game_of_Thrones_Script.csv')\n",
    "\n",
    "with open('data/characters.json') as f:\n",
    "    json_characters = json.load(f)\n",
    "df_raw_characters = pd.DataFrame(json_characters['characters'])\n",
    "\n",
    "with open('data/episodes.json') as f:\n",
    "    json_episodes = json.load(f)\n",
    "df_raw_episodes = pd.DataFrame(json_episodes['episodes'])"
   ]
  },
  {
   "attachments": {},
   "cell_type": "markdown",
   "metadata": {},
   "source": [
    "#### Preprocess/clean the raw datasets\n",
    "\n",
    "Thought behind is to only include names in the dataset that occur in all datasets, and correct them so they are the same names.  \n",
    "1. First, replace the names in each dataset with the names we have outlined in the list \"names changed.csv\"\n",
    "2. Secondly, collect all names from each dataset into a \"set\".\n",
    "3. Thirdly, find the intersection between all sets. This is now the list of names we can use in each dataset.\n",
    "4. fourthly, filter all datasets to only include dialogue, characters and scenes where these characters are."
   ]
  },
  {
   "cell_type": "code",
   "execution_count": null,
   "metadata": {},
   "outputs": [],
   "source": []
  },
  {
   "cell_type": "code",
   "execution_count": 12,
   "metadata": {},
   "outputs": [],
   "source": [
    "# script\n"
   ]
  },
  {
   "cell_type": "code",
   "execution_count": 16,
   "metadata": {},
   "outputs": [
    {
     "data": {
      "text/plain": [
       "0           Addam Marbrand\n",
       "2            Aeron Greyjoy\n",
       "3       Aerys II Targaryen\n",
       "4                     Akho\n",
       "5           Alliser Thorne\n",
       "              ...         \n",
       "384              Young Nan\n",
       "385              Young Ned\n",
       "386        Young Ned Stark\n",
       "387    Young Rodrik Cassel\n",
       "388                Zanrush\n",
       "Name: characterName, Length: 368, dtype: object"
      ]
     },
     "execution_count": 16,
     "metadata": {},
     "output_type": "execute_result"
    }
   ],
   "source": [
    "# characters\n",
    "# creating the list of characters\n",
    "df_characters = df_raw_characters[df_raw_characters['characterLink'].notnull()]\n",
    "df_characters = df_characters.characterName\n",
    "df_characters"
   ]
  },
  {
   "cell_type": "code",
   "execution_count": null,
   "metadata": {},
   "outputs": [],
   "source": [
    "# episodes\n",
    "# "
   ]
  }
 ],
 "metadata": {
  "kernelspec": {
   "display_name": ".venv",
   "language": "python",
   "name": "python3"
  },
  "language_info": {
   "codemirror_mode": {
    "name": "ipython",
    "version": 3
   },
   "file_extension": ".py",
   "mimetype": "text/x-python",
   "name": "python",
   "nbconvert_exporter": "python",
   "pygments_lexer": "ipython3",
   "version": "3.8.9"
  },
  "orig_nbformat": 4
 },
 "nbformat": 4,
 "nbformat_minor": 2
}
