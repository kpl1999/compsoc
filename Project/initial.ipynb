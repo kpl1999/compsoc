{
 "cells": [
  {
   "cell_type": "code",
   "execution_count": 15,
   "metadata": {},
   "outputs": [],
   "source": [
    "import json\n",
    "import pandas as pd\n",
    "import numpy as np\n",
    "import netwulf as nw\n",
    "import matplotlib.pyplot as plt\n",
    "import networkx as nx\n",
    "import random as random \n",
    "pd.set_option('display.max_colwidth', None)"
   ]
  },
  {
   "cell_type": "code",
   "execution_count": 16,
   "metadata": {},
   "outputs": [],
   "source": [
    "# read json file\n",
    "with open('data/characters.json') as f:\n",
    "    data = json.load(f)"
   ]
  },
  {
   "cell_type": "code",
   "execution_count": 17,
   "metadata": {},
   "outputs": [
    {
     "name": "stdout",
     "output_type": "stream",
     "text": [
      "(368, 25)\n"
     ]
    },
    {
     "data": {
      "text/html": [
       "<div>\n",
       "<style scoped>\n",
       "    .dataframe tbody tr th:only-of-type {\n",
       "        vertical-align: middle;\n",
       "    }\n",
       "\n",
       "    .dataframe tbody tr th {\n",
       "        vertical-align: top;\n",
       "    }\n",
       "\n",
       "    .dataframe thead th {\n",
       "        text-align: right;\n",
       "    }\n",
       "</style>\n",
       "<table border=\"1\" class=\"dataframe\">\n",
       "  <thead>\n",
       "    <tr style=\"text-align: right;\">\n",
       "      <th></th>\n",
       "      <th>characterName</th>\n",
       "      <th>actorName</th>\n",
       "      <th>houseName</th>\n",
       "      <th>royal</th>\n",
       "      <th>parents</th>\n",
       "      <th>siblings</th>\n",
       "      <th>killedBy</th>\n",
       "      <th>nickname</th>\n",
       "      <th>killed</th>\n",
       "      <th>parentOf</th>\n",
       "      <th>serves</th>\n",
       "      <th>actors</th>\n",
       "      <th>allies</th>\n",
       "      <th>abductedBy</th>\n",
       "      <th>abducted</th>\n",
       "      <th>sibling</th>\n",
       "    </tr>\n",
       "  </thead>\n",
       "  <tbody>\n",
       "    <tr>\n",
       "      <th>0</th>\n",
       "      <td>Addam Marbrand</td>\n",
       "      <td>B.J. Hogg</td>\n",
       "      <td>NaN</td>\n",
       "      <td>NaN</td>\n",
       "      <td>NaN</td>\n",
       "      <td>NaN</td>\n",
       "      <td>NaN</td>\n",
       "      <td>NaN</td>\n",
       "      <td>NaN</td>\n",
       "      <td>NaN</td>\n",
       "      <td>NaN</td>\n",
       "      <td>NaN</td>\n",
       "      <td>NaN</td>\n",
       "      <td>NaN</td>\n",
       "      <td>NaN</td>\n",
       "      <td>NaN</td>\n",
       "    </tr>\n",
       "    <tr>\n",
       "      <th>2</th>\n",
       "      <td>Aeron Greyjoy</td>\n",
       "      <td>Michael Feast</td>\n",
       "      <td>Greyjoy</td>\n",
       "      <td>NaN</td>\n",
       "      <td>NaN</td>\n",
       "      <td>[Balon Greyjoy, Euron Greyjoy]</td>\n",
       "      <td>NaN</td>\n",
       "      <td>Damphair</td>\n",
       "      <td>NaN</td>\n",
       "      <td>NaN</td>\n",
       "      <td>NaN</td>\n",
       "      <td>NaN</td>\n",
       "      <td>NaN</td>\n",
       "      <td>NaN</td>\n",
       "      <td>NaN</td>\n",
       "      <td>NaN</td>\n",
       "    </tr>\n",
       "    <tr>\n",
       "      <th>3</th>\n",
       "      <td>Aerys II Targaryen</td>\n",
       "      <td>David Rintoul</td>\n",
       "      <td>Targaryen</td>\n",
       "      <td>True</td>\n",
       "      <td>NaN</td>\n",
       "      <td>[Rhaella Targaryen]</td>\n",
       "      <td>[Jaime Lannister]</td>\n",
       "      <td>The Mad King</td>\n",
       "      <td>[Brandon Stark, Rickard Stark]</td>\n",
       "      <td>[Daenerys Targaryen, Rhaegar Targaryen, Viserys Targaryen]</td>\n",
       "      <td>NaN</td>\n",
       "      <td>NaN</td>\n",
       "      <td>NaN</td>\n",
       "      <td>NaN</td>\n",
       "      <td>NaN</td>\n",
       "      <td>NaN</td>\n",
       "    </tr>\n",
       "    <tr>\n",
       "      <th>4</th>\n",
       "      <td>Akho</td>\n",
       "      <td>Chuku Modu</td>\n",
       "      <td>NaN</td>\n",
       "      <td>NaN</td>\n",
       "      <td>NaN</td>\n",
       "      <td>NaN</td>\n",
       "      <td>[Daario Naharis]</td>\n",
       "      <td>NaN</td>\n",
       "      <td>NaN</td>\n",
       "      <td>NaN</td>\n",
       "      <td>NaN</td>\n",
       "      <td>NaN</td>\n",
       "      <td>NaN</td>\n",
       "      <td>NaN</td>\n",
       "      <td>NaN</td>\n",
       "      <td>NaN</td>\n",
       "    </tr>\n",
       "    <tr>\n",
       "      <th>5</th>\n",
       "      <td>Alliser Thorne</td>\n",
       "      <td>Owen Teale</td>\n",
       "      <td>NaN</td>\n",
       "      <td>NaN</td>\n",
       "      <td>NaN</td>\n",
       "      <td>NaN</td>\n",
       "      <td>[Jon Snow]</td>\n",
       "      <td>NaN</td>\n",
       "      <td>[Jon Snow]</td>\n",
       "      <td>NaN</td>\n",
       "      <td>NaN</td>\n",
       "      <td>NaN</td>\n",
       "      <td>NaN</td>\n",
       "      <td>NaN</td>\n",
       "      <td>NaN</td>\n",
       "      <td>NaN</td>\n",
       "    </tr>\n",
       "  </tbody>\n",
       "</table>\n",
       "</div>"
      ],
      "text/plain": [
       "        characterName      actorName  houseName royal parents  \\\n",
       "0      Addam Marbrand      B.J. Hogg        NaN   NaN     NaN   \n",
       "2       Aeron Greyjoy  Michael Feast    Greyjoy   NaN     NaN   \n",
       "3  Aerys II Targaryen  David Rintoul  Targaryen  True     NaN   \n",
       "4                Akho     Chuku Modu        NaN   NaN     NaN   \n",
       "5      Alliser Thorne     Owen Teale        NaN   NaN     NaN   \n",
       "\n",
       "                         siblings           killedBy      nickname  \\\n",
       "0                             NaN                NaN           NaN   \n",
       "2  [Balon Greyjoy, Euron Greyjoy]                NaN      Damphair   \n",
       "3             [Rhaella Targaryen]  [Jaime Lannister]  The Mad King   \n",
       "4                             NaN   [Daario Naharis]           NaN   \n",
       "5                             NaN         [Jon Snow]           NaN   \n",
       "\n",
       "                           killed  \\\n",
       "0                             NaN   \n",
       "2                             NaN   \n",
       "3  [Brandon Stark, Rickard Stark]   \n",
       "4                             NaN   \n",
       "5                      [Jon Snow]   \n",
       "\n",
       "                                                     parentOf serves actors  \\\n",
       "0                                                         NaN    NaN    NaN   \n",
       "2                                                         NaN    NaN    NaN   \n",
       "3  [Daenerys Targaryen, Rhaegar Targaryen, Viserys Targaryen]    NaN    NaN   \n",
       "4                                                         NaN    NaN    NaN   \n",
       "5                                                         NaN    NaN    NaN   \n",
       "\n",
       "  allies abductedBy abducted sibling  \n",
       "0    NaN        NaN      NaN     NaN  \n",
       "2    NaN        NaN      NaN     NaN  \n",
       "3    NaN        NaN      NaN     NaN  \n",
       "4    NaN        NaN      NaN     NaN  \n",
       "5    NaN        NaN      NaN     NaN  "
      ]
     },
     "execution_count": 17,
     "metadata": {},
     "output_type": "execute_result"
    }
   ],
   "source": [
    "# convert json to dataframe where each row is a character and each column is a key\n",
    "df = pd.DataFrame(data['characters'])\n",
    "\n",
    "\n",
    "# remove rows with no character link\n",
    "df = df[df['characterLink'].notnull()]\n",
    "\n",
    "# print size of dataframe\n",
    "print(df.shape)\n",
    "\n",
    "# remove characterImageThumb, characterImageFull, marriedEngaged, kingsguard, guardedBy, servedBy, guardianOf\n",
    "df = df.drop(['characterLink', 'actorLink', 'characterImageThumb', 'characterImageFull', 'marriedEngaged', 'kingsguard', 'guardedBy', 'servedBy', 'guardianOf'], axis=1)\n",
    "df.head()\n",
    "# print rows where housename is not nan\n",
    "# df[df['houseName'].notnull()]\n",
    "\n",
    "# df.houseName.value_counts()\n"
   ]
  },
  {
   "cell_type": "code",
   "execution_count": 18,
   "metadata": {},
   "outputs": [],
   "source": [
    "# create network of characters and link them to their houses\n",
    "# create graph\n",
    "G = nx.Graph()\n",
    "\n",
    "# add nodes\n",
    "G.add_nodes_from(df['characterName'])\n",
    "\n",
    "# add one edge between each character if they are in the same house\n",
    "for i in range(len(df)):\n",
    "    for j in range(i+1, len(df)):\n",
    "        if df.iloc[i]['houseName'] == df.iloc[j]['houseName']:\n",
    "            G.add_edge(df.iloc[i]['characterName'], df.iloc[j]['characterName'])\n"
   ]
  },
  {
   "cell_type": "code",
   "execution_count": 19,
   "metadata": {},
   "outputs": [
    {
     "name": "stdout",
     "output_type": "stream",
     "text": [
      "Number of nodes: 349\n",
      "Number of edges: 212\n"
     ]
    }
   ],
   "source": [
    "print(\"Number of nodes:\", G.number_of_nodes())\n",
    "print(\"Number of edges:\", G.number_of_edges())"
   ]
  },
  {
   "cell_type": "code",
   "execution_count": 20,
   "metadata": {},
   "outputs": [],
   "source": [
    "# add node attributes to the graph from the df.columns names\n",
    "for i in range(len(df)):\n",
    "    for col in df.columns:\n",
    "        G.nodes[df.iloc[i]['characterName']][col] = df.iloc[i][col]"
   ]
  },
  {
   "cell_type": "code",
   "execution_count": 21,
   "metadata": {},
   "outputs": [],
   "source": [
    "# remove nodes with no edge\n",
    "G.remove_nodes_from(list(nx.isolates(G)))"
   ]
  },
  {
   "cell_type": "code",
   "execution_count": 22,
   "metadata": {},
   "outputs": [
    {
     "data": {
      "image/png": "[encoded data removed]",
      "text/plain": [
       "<Figure size 432x288 with 1 Axes>"
      ]
     },
     "metadata": {},
     "output_type": "display_data"
    }
   ],
   "source": [
    "# draw graph\n",
    "nx.draw(G, with_labels=True, node_size=10, node_color='red', edge_color='black', font_size=8, width=0.1)"
   ]
  },
  {
   "cell_type": "code",
   "execution_count": 23,
   "metadata": {},
   "outputs": [],
   "source": [
    "# nw.visualize(G)"
   ]
  },
  {
   "attachments": {},
   "cell_type": "markdown",
   "metadata": {},
   "source": [
    "#### **Episodes**"
   ]
  },
  {
   "cell_type": "code",
   "execution_count": 24,
   "metadata": {},
   "outputs": [],
   "source": [
    "# read episodes.json file\n",
    "with open('data/episodes.json') as f:\n",
    "    data_episodes = json.load(f)\n"
   ]
  },
  {
   "cell_type": "code",
   "execution_count": 25,
   "metadata": {},
   "outputs": [],
   "source": [
    "# convert json to dataframe where each row is an scene and each column is a key\n",
    "df_episodes = pd.DataFrame(data_episodes['episodes'])\n",
    "\n",
    "# explode scenes column\n",
    "df_episodes = df_episodes.explode('scenes')\n",
    "\n",
    "# extract all scenes from the dataframe and create a new dataframe\n",
    "df_scenes = pd.DataFrame(df_episodes['scenes'].tolist())\n",
    "\n",
    "# make a list of episode numbers\n",
    "episodeNum = []\n",
    "seasonNum = []\n",
    "for i in range(len(df_episodes)):\n",
    "    episodeNum.append(df_episodes.iloc[i]['episodeNum'])\n",
    "    seasonNum.append(df_episodes.iloc[i]['seasonNum'])\n",
    "\n",
    "df_scenes['episodeNumber'] = episodeNum\n",
    "df_scenes['seasonNumber'] = seasonNum\n",
    "\n",
    "# remove greensight, altLocation, warg and flashback columns\n",
    "df_scenes = df_scenes.drop(['greensight', 'altLocation', 'warg', 'flashback'], axis=1)\n",
    "df_scenes.head()\n",
    "\n",
    "# in the characters column, extract the name of each character and add it to a list where each row is a scene\n",
    "characters = []\n",
    "for i in range(len(df_scenes)):\n",
    "    characters.append([])\n",
    "    for j in range(len(df_scenes['characters'][i])):\n",
    "        characters[i].append(df_scenes['characters'][i][j]['name'])\n",
    "\n",
    "# add the list of characters to the dataframe\n",
    "df_scenes['characters'] = characters\n"
   ]
  },
  {
   "cell_type": "code",
   "execution_count": 26,
   "metadata": {},
   "outputs": [
    {
     "data": {
      "text/html": [
       "<div>\n",
       "<style scoped>\n",
       "    .dataframe tbody tr th:only-of-type {\n",
       "        vertical-align: middle;\n",
       "    }\n",
       "\n",
       "    .dataframe tbody tr th {\n",
       "        vertical-align: top;\n",
       "    }\n",
       "\n",
       "    .dataframe thead th {\n",
       "        text-align: right;\n",
       "    }\n",
       "</style>\n",
       "<table border=\"1\" class=\"dataframe\">\n",
       "  <thead>\n",
       "    <tr style=\"text-align: right;\">\n",
       "      <th></th>\n",
       "      <th>sceneStart</th>\n",
       "      <th>sceneEnd</th>\n",
       "      <th>location</th>\n",
       "      <th>subLocation</th>\n",
       "      <th>characters</th>\n",
       "      <th>episodeNumber</th>\n",
       "      <th>seasonNumber</th>\n",
       "    </tr>\n",
       "  </thead>\n",
       "  <tbody>\n",
       "    <tr>\n",
       "      <th>0</th>\n",
       "      <td>0:00:40</td>\n",
       "      <td>0:01:45</td>\n",
       "      <td>The Wall</td>\n",
       "      <td>Castle Black</td>\n",
       "      <td>[Gared, Waymar Royce, Will]</td>\n",
       "      <td>1</td>\n",
       "      <td>1</td>\n",
       "    </tr>\n",
       "    <tr>\n",
       "      <th>1</th>\n",
       "      <td>0:01:45</td>\n",
       "      <td>0:03:24</td>\n",
       "      <td>North of the Wall</td>\n",
       "      <td>The Haunted Forest</td>\n",
       "      <td>[Gared, Waymar Royce, Will]</td>\n",
       "      <td>1</td>\n",
       "      <td>1</td>\n",
       "    </tr>\n",
       "    <tr>\n",
       "      <th>2</th>\n",
       "      <td>0:03:24</td>\n",
       "      <td>0:03:31</td>\n",
       "      <td>North of the Wall</td>\n",
       "      <td>The Haunted Forest</td>\n",
       "      <td>[Will, Wight Wildling Girl]</td>\n",
       "      <td>1</td>\n",
       "      <td>1</td>\n",
       "    </tr>\n",
       "    <tr>\n",
       "      <th>3</th>\n",
       "      <td>0:03:31</td>\n",
       "      <td>0:03:38</td>\n",
       "      <td>North of the Wall</td>\n",
       "      <td>The Haunted Forest</td>\n",
       "      <td>[Will]</td>\n",
       "      <td>1</td>\n",
       "      <td>1</td>\n",
       "    </tr>\n",
       "    <tr>\n",
       "      <th>4</th>\n",
       "      <td>0:03:38</td>\n",
       "      <td>0:03:44</td>\n",
       "      <td>North of the Wall</td>\n",
       "      <td>The Haunted Forest</td>\n",
       "      <td>[]</td>\n",
       "      <td>1</td>\n",
       "      <td>1</td>\n",
       "    </tr>\n",
       "    <tr>\n",
       "      <th>...</th>\n",
       "      <td>...</td>\n",
       "      <td>...</td>\n",
       "      <td>...</td>\n",
       "      <td>...</td>\n",
       "      <td>...</td>\n",
       "      <td>...</td>\n",
       "      <td>...</td>\n",
       "    </tr>\n",
       "    <tr>\n",
       "      <th>4160</th>\n",
       "      <td>1:17:24</td>\n",
       "      <td>1:17:55</td>\n",
       "      <td>The North</td>\n",
       "      <td>Winterfell</td>\n",
       "      <td>[Sansa Stark]</td>\n",
       "      <td>6</td>\n",
       "      <td>8</td>\n",
       "    </tr>\n",
       "    <tr>\n",
       "      <th>4161</th>\n",
       "      <td>1:17:55</td>\n",
       "      <td>1:18:11</td>\n",
       "      <td>The Sunset Sea</td>\n",
       "      <td>NaN</td>\n",
       "      <td>[Arya Stark]</td>\n",
       "      <td>6</td>\n",
       "      <td>8</td>\n",
       "    </tr>\n",
       "    <tr>\n",
       "      <th>4162</th>\n",
       "      <td>1:18:11</td>\n",
       "      <td>1:18:20</td>\n",
       "      <td>The Wall</td>\n",
       "      <td>Castle Black</td>\n",
       "      <td>[Jon Snow, Tormund Giantsbane, Ghost]</td>\n",
       "      <td>6</td>\n",
       "      <td>8</td>\n",
       "    </tr>\n",
       "    <tr>\n",
       "      <th>4163</th>\n",
       "      <td>1:18:20</td>\n",
       "      <td>1:19:40</td>\n",
       "      <td>North of the Wall</td>\n",
       "      <td>The Wall</td>\n",
       "      <td>[Jon Snow, Tormund Giantsbane, Ghost]</td>\n",
       "      <td>6</td>\n",
       "      <td>8</td>\n",
       "    </tr>\n",
       "    <tr>\n",
       "      <th>4164</th>\n",
       "      <td>1:19:40</td>\n",
       "      <td>1:20:20</td>\n",
       "      <td>North of the Wall</td>\n",
       "      <td>The Haunted Forest</td>\n",
       "      <td>[Jon Snow, Tormund Giantsbane, Ghost]</td>\n",
       "      <td>6</td>\n",
       "      <td>8</td>\n",
       "    </tr>\n",
       "  </tbody>\n",
       "</table>\n",
       "<p>4165 rows × 7 columns</p>\n",
       "</div>"
      ],
      "text/plain": [
       "     sceneStart sceneEnd           location         subLocation  \\\n",
       "0       0:00:40  0:01:45           The Wall        Castle Black   \n",
       "1       0:01:45  0:03:24  North of the Wall  The Haunted Forest   \n",
       "2       0:03:24  0:03:31  North of the Wall  The Haunted Forest   \n",
       "3       0:03:31  0:03:38  North of the Wall  The Haunted Forest   \n",
       "4       0:03:38  0:03:44  North of the Wall  The Haunted Forest   \n",
       "...         ...      ...                ...                 ...   \n",
       "4160    1:17:24  1:17:55          The North          Winterfell   \n",
       "4161    1:17:55  1:18:11     The Sunset Sea                 NaN   \n",
       "4162    1:18:11  1:18:20           The Wall        Castle Black   \n",
       "4163    1:18:20  1:19:40  North of the Wall            The Wall   \n",
       "4164    1:19:40  1:20:20  North of the Wall  The Haunted Forest   \n",
       "\n",
       "                                 characters  episodeNumber  seasonNumber  \n",
       "0               [Gared, Waymar Royce, Will]              1             1  \n",
       "1               [Gared, Waymar Royce, Will]              1             1  \n",
       "2               [Will, Wight Wildling Girl]              1             1  \n",
       "3                                    [Will]              1             1  \n",
       "4                                        []              1             1  \n",
       "...                                     ...            ...           ...  \n",
       "4160                          [Sansa Stark]              6             8  \n",
       "4161                           [Arya Stark]              6             8  \n",
       "4162  [Jon Snow, Tormund Giantsbane, Ghost]              6             8  \n",
       "4163  [Jon Snow, Tormund Giantsbane, Ghost]              6             8  \n",
       "4164  [Jon Snow, Tormund Giantsbane, Ghost]              6             8  \n",
       "\n",
       "[4165 rows x 7 columns]"
      ]
     },
     "execution_count": 26,
     "metadata": {},
     "output_type": "execute_result"
    }
   ],
   "source": [
    "df_scenes"
   ]
  },
  {
   "cell_type": "code",
   "execution_count": 27,
   "metadata": {},
   "outputs": [],
   "source": [
    "# create graph of characters\n",
    "G = nx.Graph()\n",
    "\n",
    "# add nodes\n",
    "G.add_nodes_from(df['characterName'])\n",
    "\n",
    "# add a weighted edge between each character if they appear in the same scene\n",
    "for i in range(len(df_scenes)):\n",
    "    for j in range(len(df_scenes['characters'][i])):\n",
    "        for k in range(j+1, len(df_scenes['characters'][i])):\n",
    "            if G.has_edge(df_scenes['characters'][i][j], df_scenes['characters'][i][k]):\n",
    "                G[df_scenes['characters'][i][j]][df_scenes['characters'][i][k]]['weight'] += 1\n",
    "            else:\n",
    "                G.add_edge(df_scenes['characters'][i][j], df_scenes['characters'][i][k], weight=1)\n",
    "\n"
   ]
  },
  {
   "cell_type": "code",
   "execution_count": 28,
   "metadata": {},
   "outputs": [
    {
     "name": "stdout",
     "output_type": "stream",
     "text": [
      "602\n",
      "4236\n"
     ]
    }
   ],
   "source": [
    "print(G.number_of_nodes())\n",
    "print(G.number_of_edges())"
   ]
  },
  {
   "cell_type": "code",
   "execution_count": 29,
   "metadata": {},
   "outputs": [],
   "source": [
    "# add attributes to the nodes\n",
    "for i in range(len(df)):\n",
    "    for col in df.columns:\n",
    "        G.nodes[df.iloc[i]['characterName']][col] = df.iloc[i][col]"
   ]
  },
  {
   "cell_type": "code",
   "execution_count": 30,
   "metadata": {},
   "outputs": [
    {
     "data": {
      "text/plain": [
       "36"
      ]
     },
     "execution_count": 30,
     "metadata": {},
     "output_type": "execute_result"
    }
   ],
   "source": [
    "import community as community_louvain\n",
    "\n",
    "# Find communities\n",
    "partition = community_louvain.best_partition(G)\n",
    "\n",
    "len(set(partition.values()))"
   ]
  },
  {
   "cell_type": "code",
   "execution_count": 31,
   "metadata": {},
   "outputs": [],
   "source": [
    "# make hex colour schema for communities\n",
    "colors = [\"#\"+''.join([random.choice('0123456789ABCDEF') for j in range(6)])\n",
    "                for i in range(len(set(partition.values())))]\n",
    "\n",
    "color_map = {}\n",
    "for i, community in enumerate(set(partition.values())):\n",
    "    color_map[community] = colors[i]\n",
    "\n",
    "# assign community, color and degree to each node\n",
    "for node in G.nodes:\n",
    "    G.nodes[node]['community'] = partition[node]\n",
    "    G.nodes[node]['color'] = color_map[partition[node]]\n",
    "    G.nodes[node]['degree'] = G.degree[node]"
   ]
  },
  {
   "cell_type": "code",
   "execution_count": 35,
   "metadata": {},
   "outputs": [
    {
     "ename": "TypeError",
     "evalue": "'NoneType' object is not subscriptable",
     "output_type": "error",
     "traceback": [
      "\u001b[0;31m---------------------------------------------------------------------------\u001b[0m",
      "\u001b[0;31mTypeError\u001b[0m                                 Traceback (most recent call last)",
      "\u001b[0;32m<ipython-input-35-7b334e69e712>\u001b[0m in \u001b[0;36m<module>\u001b[0;34m\u001b[0m\n\u001b[1;32m      1\u001b[0m \u001b[0mnetwork\u001b[0m\u001b[0;34m,\u001b[0m \u001b[0mconfig\u001b[0m \u001b[0;34m=\u001b[0m \u001b[0mnw\u001b[0m\u001b[0;34m.\u001b[0m\u001b[0mvisualize\u001b[0m\u001b[0;34m(\u001b[0m\u001b[0mG\u001b[0m\u001b[0;34m,\u001b[0m \u001b[0mplot_in_cell_below\u001b[0m\u001b[0;34m=\u001b[0m\u001b[0;32mFalse\u001b[0m\u001b[0;34m)\u001b[0m\u001b[0;34m\u001b[0m\u001b[0;34m\u001b[0m\u001b[0m\n\u001b[0;32m----> 2\u001b[0;31m \u001b[0mfig\u001b[0m\u001b[0;34m,\u001b[0m \u001b[0max\u001b[0m \u001b[0;34m=\u001b[0m \u001b[0mnw\u001b[0m\u001b[0;34m.\u001b[0m\u001b[0mdraw_netwulf\u001b[0m\u001b[0;34m(\u001b[0m\u001b[0mnetwork\u001b[0m\u001b[0;34m)\u001b[0m\u001b[0;34m\u001b[0m\u001b[0;34m\u001b[0m\u001b[0m\n\u001b[0m\u001b[1;32m      3\u001b[0m \u001b[0;31m# plt.savefig(\"BAnetworkWithDegreeColoured.pdf\")\u001b[0m\u001b[0;34m\u001b[0m\u001b[0;34m\u001b[0m\u001b[0m\n",
      "\u001b[0;32m/opt/homebrew/lib/python3.9/site-packages/netwulf/tools.py\u001b[0m in \u001b[0;36mdraw_netwulf\u001b[0;34m(network_properties, fig, ax, figsize, draw_links, draw_nodes, link_zorder, node_zorder)\u001b[0m\n\u001b[1;32m    367\u001b[0m     \u001b[0max\u001b[0m\u001b[0;34m.\u001b[0m\u001b[0maxis\u001b[0m\u001b[0;34m(\u001b[0m\u001b[0;34m'off'\u001b[0m\u001b[0;34m)\u001b[0m\u001b[0;34m\u001b[0m\u001b[0;34m\u001b[0m\u001b[0m\n\u001b[1;32m    368\u001b[0m     \u001b[0max\u001b[0m\u001b[0;34m.\u001b[0m\u001b[0mmargins\u001b[0m\u001b[0;34m(\u001b[0m\u001b[0;36m0\u001b[0m\u001b[0;34m)\u001b[0m\u001b[0;34m\u001b[0m\u001b[0;34m\u001b[0m\u001b[0m\n\u001b[0;32m--> 369\u001b[0;31m     \u001b[0max\u001b[0m\u001b[0;34m.\u001b[0m\u001b[0mset_xlim\u001b[0m\u001b[0;34m(\u001b[0m\u001b[0mnetwork_properties\u001b[0m\u001b[0;34m[\u001b[0m\u001b[0;34m'xlim'\u001b[0m\u001b[0;34m]\u001b[0m\u001b[0;34m)\u001b[0m\u001b[0;34m\u001b[0m\u001b[0;34m\u001b[0m\u001b[0m\n\u001b[0m\u001b[1;32m    370\u001b[0m     \u001b[0max\u001b[0m\u001b[0;34m.\u001b[0m\u001b[0mset_ylim\u001b[0m\u001b[0;34m(\u001b[0m\u001b[0mnetwork_properties\u001b[0m\u001b[0;34m[\u001b[0m\u001b[0;34m'ylim'\u001b[0m\u001b[0;34m]\u001b[0m\u001b[0;34m)\u001b[0m\u001b[0;34m\u001b[0m\u001b[0;34m\u001b[0m\u001b[0m\n\u001b[1;32m    371\u001b[0m     \u001b[0mbbox\u001b[0m \u001b[0;34m=\u001b[0m \u001b[0max\u001b[0m\u001b[0;34m.\u001b[0m\u001b[0mget_window_extent\u001b[0m\u001b[0;34m(\u001b[0m\u001b[0;34m)\u001b[0m\u001b[0;34m.\u001b[0m\u001b[0mtransformed\u001b[0m\u001b[0;34m(\u001b[0m\u001b[0mfig\u001b[0m\u001b[0;34m.\u001b[0m\u001b[0mdpi_scale_trans\u001b[0m\u001b[0;34m.\u001b[0m\u001b[0minverted\u001b[0m\u001b[0;34m(\u001b[0m\u001b[0;34m)\u001b[0m\u001b[0;34m)\u001b[0m\u001b[0;34m\u001b[0m\u001b[0;34m\u001b[0m\u001b[0m\n",
      "\u001b[0;31mTypeError\u001b[0m: 'NoneType' object is not subscriptable"
     ]
    },
    {
     "data": {
      "image/png": "[encoded data removed]",
      "text/plain": [
       "<Figure size 288x288 with 1 Axes>"
      ]
     },
     "metadata": {
      "needs_background": "light"
     },
     "output_type": "display_data"
    }
   ],
   "source": [
    "network, config = nw.visualize(G, plot_in_cell_below=False)\n",
    "fig, ax = nw.draw_netwulf(network)\n",
    "# plt.savefig(\"BAnetworkWithDegreeColoured.pdf\")"
   ]
  },
  {
   "cell_type": "code",
   "execution_count": null,
   "metadata": {},
   "outputs": [],
   "source": [
    "# print node attributes for nodes with highest degree\n",
    "for node in sorted(G.nodes, key=lambda x: G.degree(x), reverse=True)[:20]:\n",
    "    print(node, G.nodes[node])"
   ]
  }
 ],
 "metadata": {
  "kernelspec": {
   "display_name": "Python 3",
   "language": "python",
   "name": "python3"
  },
  "language_info": {
   "codemirror_mode": {
    "name": "ipython",
    "version": 3
   },
   "file_extension": ".py",
   "mimetype": "text/x-python",
   "name": "python",
   "nbconvert_exporter": "python",
   "pygments_lexer": "ipython3",
   "version": "3.9.10"
  },
  "orig_nbformat": 4
 },
 "nbformat": 4,
 "nbformat_minor": 2
}
