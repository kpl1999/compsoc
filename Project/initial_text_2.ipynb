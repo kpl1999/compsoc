{
 "cells": [
  {
   "cell_type": "code",
   "execution_count": 1,
   "metadata": {},
   "outputs": [],
   "source": [
    "import json\n",
    "import pandas as pd\n",
    "import numpy as np\n",
    "import netwulf as nw\n",
    "import matplotlib.pyplot as plt\n",
    "import networkx as nx\n",
    "import random as random \n",
    "pd.set_option('display.max_colwidth', None)\n",
    "import string\n",
    "import nltk\n",
    "from nltk.tokenize import word_tokenize\n",
    "from nltk.corpus import stopwords\n",
    "from nltk.stem import WordNetLemmatizer\n",
    "import seaborn as sns\n",
    "from tqdm import tqdm"
   ]
  },
  {
   "cell_type": "code",
   "execution_count": 2,
   "metadata": {},
   "outputs": [
    {
     "name": "stdout",
     "output_type": "stream",
     "text": [
      "Index(['Release Date', 'Season', 'Episode', 'Episode Title', 'Name',\n",
      "       'Sentence'],\n",
      "      dtype='object')\n"
     ]
    }
   ],
   "source": [
    "# read in the data\n",
    "df = pd.read_csv('data/Game_of_Thrones_Script.csv')\n",
    "df.shape\n",
    "print(df.columns)"
   ]
  },
  {
   "cell_type": "code",
   "execution_count": 3,
   "metadata": {},
   "outputs": [],
   "source": [
    "# in season column remove the 'Season ' and convert to int\n",
    "df['Season'] = df['Season'].str.replace('Season ', '').astype(int)\n",
    "\n",
    "# in episode column remove the 'Episode ' and convert to int\n",
    "df['Episode'] = df['Episode'].str.replace('Episode ', '').astype(int)"
   ]
  },
  {
   "cell_type": "code",
   "execution_count": 4,
   "metadata": {},
   "outputs": [],
   "source": [
    "# tokenize the text and remove punctuation\n",
    "stop_words = set(stopwords.words('english'))\n",
    "# add some more words to the stop words\n",
    "stop_words.update(['nt', 'l', 'know', 'would', 'wanted', 'want', 'like', 'yeah', 'oh', 'right', 'well', 'come', 'gonna', 'got', 'one', 'two', 'three', 'four', 'five', 'six', 'seven', 'eight', 'nine', 'ten', 'oh', 'ohh', 'ohhh', 'ohhhh', 'ohhhhh', 'ohhhhhh', 'ohhhhhhh', 'ohhhhhhhh', 'ohhhhhhhhh', 'ohhhhhhhhhh', 'ohhhhhhhhhhh', 'ohhhhhhhhhhhh', 'ohhhhhhhhhhhhh', 'ohhhhhhhhhhhhhh', 'ohhhhhhhhhhhhhhh', 'ohhhhhhhhhhhhhhhh', 'ohhhhhhhhhhhhhhhhh', 'ohhhhhhhhhhhhhhhhhh', 'ohhhhhhhhhhhhhhhhhhh', 'ohhhhhhhhhhhhhhhhh'])\n",
    "lemmatizer = WordNetLemmatizer()\n",
    "def tokenize(text):\n",
    "    tokens = word_tokenize(text)\n",
    "    tokens = [w.lower() for w in tokens]\n",
    "    table = str.maketrans('', '', string.punctuation)\n",
    "    stripped = [w.translate(table) for w in tokens]\n",
    "    words = [word for word in stripped if word.isalpha()]\n",
    "    words = [w for w in words if not w in stop_words]\n",
    "    words = [lemmatizer.lemmatize(w) for w in words]\n",
    "\n",
    "    # remove words with less than 3 characters\n",
    "    words = [w for w in words if len(w) > 2]\n",
    "\n",
    "    # remove common words like know and like\n",
    "    \n",
    "    return words\n",
    "\n",
    "# tokenize the text\n",
    "df['tokens'] = df['Sentence'].apply(tokenize)\n",
    "\n",
    "# create new dataframe with season and episode\n",
    "df_tokenized = df[['Season', 'Episode', 'Episode Title', 'Name', 'tokens']]"
   ]
  },
  {
   "cell_type": "code",
   "execution_count": 5,
   "metadata": {},
   "outputs": [],
   "source": [
    "# create 1 long list of tokens for each episode\n",
    "df_byepisode = df_tokenized.groupby(['Season', 'Episode', 'Episode Title'])['tokens'].apply(list).reset_index(name='tokens')\n",
    "# convert list of lists to list\n",
    "df_byepisode['tokens'] = df_byepisode['tokens'].apply(lambda x: [item for sublist in x for item in sublist])\n",
    "\n",
    "# create 1 long list of tokens for each season\n",
    "df_byseason = df_tokenized.groupby(['Season'])['tokens'].apply(list).reset_index(name='tokens')\n",
    "# convert list of lists to list\n",
    "df_byseason['tokens'] = df_byseason['tokens'].apply(lambda x: [item for sublist in x for item in sublist])"
   ]
  },
  {
   "attachments": {},
   "cell_type": "markdown",
   "metadata": {},
   "source": [
    "bipartite words....."
   ]
  }
 ],
 "metadata": {
  "kernelspec": {
   "display_name": "Python 3",
   "language": "python",
   "name": "python3"
  },
  "language_info": {
   "codemirror_mode": {
    "name": "ipython",
    "version": 3
   },
   "file_extension": ".py",
   "mimetype": "text/x-python",
   "name": "python",
   "nbconvert_exporter": "python",
   "pygments_lexer": "ipython3",
   "version": "3.9.10"
  },
  "orig_nbformat": 4
 },
 "nbformat": 4,
 "nbformat_minor": 2
}
